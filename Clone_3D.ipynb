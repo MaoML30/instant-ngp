{
  "nbformat": 4,
  "nbformat_minor": 0,
  "metadata": {
    "colab": {
      "name": "Clone 3D.ipynb",
      "provenance": [],
      "collapsed_sections": [],
      "mount_file_id": "1AYFIwcGxJZmTuiTPmiv2HkDmOzUcNys4",
      "authorship_tag": "ABX9TyPoM4+C4qyZI2yIB6D2vks1",
      "include_colab_link": true
    },
    "kernelspec": {
      "name": "python3",
      "display_name": "Python 3"
    },
    "language_info": {
      "name": "python"
    }
  },
  "cells": [
    {
      "cell_type": "markdown",
      "metadata": {
        "id": "view-in-github",
        "colab_type": "text"
      },
      "source": [
        "<a href=\"https://colab.research.google.com/github/MaoML30/instant-ngp/blob/master/Clone_3D.ipynb\" target=\"_parent\"><img src=\"https://colab.research.google.com/assets/colab-badge.svg\" alt=\"Open In Colab\"/></a>"
      ]
    },
    {
      "cell_type": "code",
      "source": [
        "!git clone https://github.com/NVlabs/instant-ngp.git"
      ],
      "metadata": {
        "colab": {
          "base_uri": "https://localhost:8080/"
        },
        "id": "fGR49uOl0huJ",
        "outputId": "6c9638ae-2512-4cd4-f245-84d71ad7f3ba"
      },
      "execution_count": 2,
      "outputs": [
        {
          "output_type": "stream",
          "name": "stdout",
          "text": [
            "Cloning into 'instant-ngp'...\n",
            "remote: Enumerating objects: 891, done.\u001b[K\n",
            "remote: Counting objects: 100% (96/96), done.\u001b[K\n",
            "remote: Compressing objects: 100% (58/58), done.\u001b[K\n",
            "remote: Total 891 (delta 45), reused 69 (delta 36), pack-reused 795\u001b[K\n",
            "Receiving objects: 100% (891/891), 137.20 MiB | 13.41 MiB/s, done.\n",
            "Resolving deltas: 100% (323/323), done.\n"
          ]
        }
      ]
    },
    {
      "cell_type": "code",
      "source": [
        "!pip install git+https://github.com/NVlabs/instant-ngp"
      ],
      "metadata": {
        "colab": {
          "base_uri": "https://localhost:8080/"
        },
        "id": "6aoYKM9Q1MDm",
        "outputId": "926de2da-9db7-4772-d361-371a54214abc"
      },
      "execution_count": 7,
      "outputs": [
        {
          "output_type": "stream",
          "name": "stdout",
          "text": [
            "Collecting git+https://github.com/NVlabs/instant-ngp\n",
            "  Cloning https://github.com/NVlabs/instant-ngp to /tmp/pip-req-build-nl15xj9g\n",
            "  Running command git clone -q https://github.com/NVlabs/instant-ngp /tmp/pip-req-build-nl15xj9g\n",
            "  Running command git submodule update --init --recursive -q\n",
            "\u001b[31mERROR: File \"setup.py\" not found for legacy project git+https://github.com/NVlabs/instant-ngp.\u001b[0m\n"
          ]
        }
      ]
    },
    {
      "cell_type": "code",
      "source": [
        "%cd /content/instant-ngp/"
      ],
      "metadata": {
        "colab": {
          "base_uri": "https://localhost:8080/"
        },
        "id": "_EjiS65n4aIT",
        "outputId": "2de30f7a-913e-47ee-b97b-b2f7256cd997"
      },
      "execution_count": 4,
      "outputs": [
        {
          "output_type": "stream",
          "name": "stdout",
          "text": [
            "/content/instant-ngp\n"
          ]
        }
      ]
    },
    {
      "cell_type": "code",
      "source": [
        "!pip install -r requirements.txt"
      ],
      "metadata": {
        "colab": {
          "base_uri": "https://localhost:8080/"
        },
        "id": "Pz5GT1Xz4xJP",
        "outputId": "362ea373-0a22-4b6b-a18b-6e9e92bd4f93"
      },
      "execution_count": 8,
      "outputs": [
        {
          "output_type": "stream",
          "name": "stdout",
          "text": [
            "Requirement already satisfied: certifi==2021.5.30 in /usr/local/lib/python3.7/dist-packages (from -r requirements.txt (line 1)) (2021.5.30)\n",
            "Requirement already satisfied: commentjson==0.9.0 in /usr/local/lib/python3.7/dist-packages (from -r requirements.txt (line 2)) (0.9.0)\n",
            "Requirement already satisfied: lark-parser==0.7.8 in /usr/local/lib/python3.7/dist-packages (from -r requirements.txt (line 3)) (0.7.8)\n",
            "Requirement already satisfied: numpy==1.21.2 in /usr/local/lib/python3.7/dist-packages (from -r requirements.txt (line 4)) (1.21.2)\n",
            "Requirement already satisfied: Pillow==8.3.2 in /usr/local/lib/python3.7/dist-packages (from -r requirements.txt (line 5)) (8.3.2)\n",
            "Requirement already satisfied: pybind11==2.7.1 in /usr/local/lib/python3.7/dist-packages (from -r requirements.txt (line 6)) (2.7.1)\n",
            "Requirement already satisfied: PyEXR==0.3.10 in /usr/local/lib/python3.7/dist-packages (from -r requirements.txt (line 7)) (0.3.10)\n",
            "Requirement already satisfied: scipy==1.7.1 in /usr/local/lib/python3.7/dist-packages (from -r requirements.txt (line 8)) (1.7.1)\n",
            "Requirement already satisfied: tqdm==4.62.2 in /usr/local/lib/python3.7/dist-packages (from -r requirements.txt (line 9)) (4.62.2)\n",
            "Requirement already satisfied: OpenEXR in /usr/local/lib/python3.7/dist-packages (from PyEXR==0.3.10->-r requirements.txt (line 7)) (1.3.2)\n",
            "Requirement already satisfied: future in /usr/local/lib/python3.7/dist-packages (from PyEXR==0.3.10->-r requirements.txt (line 7)) (0.16.0)\n"
          ]
        }
      ]
    },
    {
      "cell_type": "code",
      "source": [
        ""
      ],
      "metadata": {
        "id": "8id4PShS6-kf"
      },
      "execution_count": null,
      "outputs": []
    }
  ]
}